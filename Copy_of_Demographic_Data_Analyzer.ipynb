{
  "nbformat": 4,
  "nbformat_minor": 0,
  "metadata": {
    "colab": {
      "provenance": [],
      "authorship_tag": "ABX9TyPIEcuaYf+Tdz0A9Oqi90AY",
      "include_colab_link": true
    },
    "kernelspec": {
      "name": "python3",
      "display_name": "Python 3"
    },
    "language_info": {
      "name": "python"
    }
  },
  "cells": [
    {
      "cell_type": "markdown",
      "metadata": {
        "id": "view-in-github",
        "colab_type": "text"
      },
      "source": [
        "<a href=\"https://colab.research.google.com/github/roya1988/Free-Code-Camp/blob/main/Copy_of_Demographic_Data_Analyzer.ipynb\" target=\"_parent\"><img src=\"https://colab.research.google.com/assets/colab-badge.svg\" alt=\"Open In Colab\"/></a>"
      ]
    },
    {
      "cell_type": "code",
      "execution_count": 7,
      "metadata": {
        "id": "2AFiupAnuySN"
      },
      "outputs": [],
      "source": [
        "import numpy as np\n",
        "import pandas as pd\n",
        "from collections import Counter\n",
        "#read csv seperated by ;\n",
        "df = pd.read_csv('https://raw.githubusercontent.com/JakubPyt/Demographic_Data_Analyzer/main/adult.data.csv', sep=';')\n"
      ]
    },
    {
      "cell_type": "code",
      "source": [
        "#row access\n",
        "first_date = df.loc[1]\n",
        "#print('in chie',first_date)\n",
        "#column access\n",
        "age_column = df['race']\n",
        "a=age_column.size\n",
        "print('a=',a)\n",
        "item_frequency = Counter(age_column)\n",
        "print(item_frequency)\n",
        "first_question = pd.Series(item_frequency)\n",
        "#first question\n",
        "print(first_question)"
      ],
      "metadata": {
        "colab": {
          "base_uri": "https://localhost:8080/"
        },
        "id": "CAIMea04OmsC",
        "outputId": "402f5b47-34b1-4dbd-cdd3-8fe770057081"
      },
      "execution_count": 8,
      "outputs": [
        {
          "output_type": "stream",
          "name": "stdout",
          "text": [
            "a= 32561\n",
            "Counter({'White': 27816, 'Black': 3124, 'Asian-Pac-Islander': 1039, 'Amer-Indian-Eskimo': 311, 'Other': 271})\n",
            "White                 27816\n",
            "Black                  3124\n",
            "Asian-Pac-Islander     1039\n",
            "Amer-Indian-Eskimo      311\n",
            "Other                   271\n",
            "dtype: int64\n"
          ]
        }
      ]
    },
    {
      "cell_type": "markdown",
      "source": [
        "https://raw.githubusercontent.com/JakubPyt/Demographic_Data_Analyzer/main/adult.data.csv\n",
        "link of data"
      ],
      "metadata": {
        "id": "nhBkq8J4ynzg"
      }
    },
    {
      "cell_type": "code",
      "source": [
        "#second question\n",
        "t=0\n",
        "sum=0\n",
        "sex_column = df['sex']\n",
        "age_column = df['age']\n",
        "for i in range(32561):\n",
        "  ww=sex_column.loc[i]\n",
        "  if (ww=='Male'):\n",
        "    sum=sum+age_column[i]\n",
        "    t=t+1\n",
        "miangin=sum/32561\n",
        "print('average age of men=',miangin)\n",
        "    #print(ww)\n",
        "  #else:\n",
        "    #print('no')\n",
        "\n",
        "\n",
        "  #if sex_column.loc[i] == male\n",
        "   #print('yes')\n",
        "#print(sex_column.loc[5])\n",
        "#print(sex_column[1:9])\n",
        "#mean(age(if ))"
      ],
      "metadata": {
        "colab": {
          "base_uri": "https://localhost:8080/"
        },
        "id": "nFgl6T2EO4AQ",
        "outputId": "55126a91-afdb-4880-b678-d9f1d87c4f03"
      },
      "execution_count": 9,
      "outputs": [
        {
          "output_type": "stream",
          "name": "stdout",
          "text": [
            "average age of men= 26.389146524983875\n"
          ]
        }
      ]
    },
    {
      "cell_type": "code",
      "source": [
        "#third question\n",
        "sum1=0\n",
        "sum2=0\n",
        "education_column = df['education']\n",
        "edu_num_column = df['education-num']\n",
        "for j in range(32561):\n",
        "  if (education_column[j]=='Bachelors'):\n",
        "    sum1=sum1+edu_num_column[j]\n",
        "for row in range(32561):\n",
        "  sum2=sum2+edu_num_column[row]\n",
        "print('percentage of people who have a Bachelors degree=',(sum1/sum2)*100)"
      ],
      "metadata": {
        "id": "fxMRMUJYfYCg",
        "colab": {
          "base_uri": "https://localhost:8080/"
        },
        "outputId": "b6666abd-b0eb-4086-8f68-085c319995db"
      },
      "execution_count": 10,
      "outputs": [
        {
          "output_type": "stream",
          "name": "stdout",
          "text": [
            "percentage of people who have a Bachelors degree= 21.208760742999722\n"
          ]
        }
      ]
    },
    {
      "cell_type": "code",
      "source": [
        "#fourth question\n",
        "#check frequency of items in salary column\n",
        "salary_column = df['salary']\n",
        "item_frequency2 = Counter(salary_column)\n",
        "print(item_frequency2)\n",
        "\n",
        "#count items with the conditions of the question\n",
        "o1=0\n",
        "for o in range(32561):\n",
        "  if ((education_column[o]=='Bachelors' or education_column[o]=='Masters' or education_column[o]=='Doctorate')and salary_column[o]=='>50K'):\n",
        "    o1=o1+1\n",
        "    #print((education_column[o]))\n",
        "    #print((salary_column[o]))\n",
        "\n",
        "print('percentage of people with advanced education make more than 50K=',(o1/32561)*100)"
      ],
      "metadata": {
        "colab": {
          "base_uri": "https://localhost:8080/"
        },
        "id": "RMOay4jiF5Jf",
        "outputId": "5fa5736f-cd67-414f-eb39-7b78ec4a2fe3"
      },
      "execution_count": 11,
      "outputs": [
        {
          "output_type": "stream",
          "name": "stdout",
          "text": [
            "Counter({'<=50K': 24720, '>50K': 7841})\n",
            "percentage of people with advanced education make more than 50K= 10.706059396210192\n"
          ]
        }
      ]
    },
    {
      "cell_type": "code",
      "source": [
        "#fifth question\n",
        "#salary_column = df['salary']\n",
        "item_frequency3 = Counter(education_column)\n",
        "print(item_frequency3)\n",
        "o2=0\n",
        "for b in range(32561):\n",
        "  if (not(education_column[b]=='Bachelors' or education_column[b]=='Masters' or education_column[b]=='Doctorate') and (salary_column[b]=='>50K')):\n",
        "    o2=o2+1\n",
        "    #print((education_column[o]))\n",
        "    #print((salary_column[o]))\n",
        "\n",
        "print('percentage of people without advanced education make more than 50K=',(o2/32561)*100)\n"
      ],
      "metadata": {
        "colab": {
          "base_uri": "https://localhost:8080/"
        },
        "id": "OLMgleztKuTi",
        "outputId": "e8d00714-b8e8-4464-97ad-8a10b9f27a9e"
      },
      "execution_count": 12,
      "outputs": [
        {
          "output_type": "stream",
          "name": "stdout",
          "text": [
            "Counter({'HS-grad': 10501, 'Some-college': 7291, 'Bachelors': 5355, 'Masters': 1723, 'Assoc-voc': 1382, '11th': 1175, 'Assoc-acdm': 1067, '10th': 933, '7th-8th': 646, 'Prof-school': 576, '9th': 514, '12th': 433, 'Doctorate': 413, '5th-6th': 333, '1st-4th': 168, 'Preschool': 51})\n",
            "percentage of people without advanced education make more than 50K= 13.374896348392248\n"
          ]
        }
      ]
    },
    {
      "cell_type": "code",
      "source": [
        "#sixth question\n",
        "hpw_column = df['hours-per-week']\n",
        "min_value = hpw_column.min()\n",
        "print(f\"The minimum value in the Series is: {min_value}\")"
      ],
      "metadata": {
        "colab": {
          "base_uri": "https://localhost:8080/"
        },
        "id": "upo9Yrl_MmZ_",
        "outputId": "1c2f71f9-8fc7-4e2a-98cc-10377f1f5de4"
      },
      "execution_count": 13,
      "outputs": [
        {
          "output_type": "stream",
          "name": "stdout",
          "text": [
            "The minimum value in the Series is: 1\n"
          ]
        }
      ]
    },
    {
      "cell_type": "code",
      "source": [
        "#seventh question\n",
        "u1=0\n",
        "for y1 in range(32561):\n",
        "  if ((hpw_column[y1]==1) and (salary_column[y1]=='>50K')):\n",
        "    u1=u1+1\n",
        "print('percentage of the people who work the minimum number of hours per week have a salary of more than 50K=',(u1/32561)*100)\n"
      ],
      "metadata": {
        "colab": {
          "base_uri": "https://localhost:8080/"
        },
        "id": "X49yA0fCN8CO",
        "outputId": "927fa253-64e2-4c93-d68e-00686024cc05"
      },
      "execution_count": 14,
      "outputs": [
        {
          "output_type": "stream",
          "name": "stdout",
          "text": [
            "percentage of the people who work the minimum number of hours per week have a salary of more than 50K= 0.006142317496391388\n"
          ]
        }
      ]
    },
    {
      "cell_type": "code",
      "source": [
        "#eighth question\n",
        "my_dict={}\n",
        "s=0\n",
        "country_column=df['native-country']\n",
        "salary_column=df['salary']\n",
        "fnlwgt_column=df['fnlwgt']\n",
        "for u in range(32561):\n",
        "  if (salary_column[u]=='>50K'):\n",
        "\n",
        "    x=(country_column[u])\n",
        "\n",
        "    s=(fnlwgt_column[u])\n",
        "\n",
        "    if u==0:\n",
        "      my_dict={x:s}\n",
        "\n",
        "    if u!=0:\n",
        "       if x  in my_dict:\n",
        "\n",
        "          s=s+my_dict[x]\n",
        "          my_dict.update({x: s})\n",
        "       else:\n",
        "        my_dict.setdefault(x, s)\n",
        "\n",
        "\n",
        "print(my_dict)\n",
        "\n"
      ],
      "metadata": {
        "colab": {
          "base_uri": "https://localhost:8080/"
        },
        "id": "cczqtkqUPbT4",
        "outputId": "4028636c-beb2-44b5-9d0a-7f2eef63dbfb"
      },
      "execution_count": 15,
      "outputs": [
        {
          "output_type": "stream",
          "name": "stdout",
          "text": [
            "{'United-States': 1344089159, 'India': 6581701, '?': 27324559, 'South': 2570260, 'Honduras': 51835, 'Canada': 7881279, 'Iran': 3231084, 'Mexico': 9979761, 'Cambodia': 1663739, 'Thailand': 599352, 'Taiwan': 3867091, 'Portugal': 427993, 'England': 5286201, 'China': 3765694, 'Philippines': 10868321, 'Jamaica': 2117079, 'Germany': 8735522, 'Japan': 4018409, 'Italy': 4634584, 'Dominican-Republic': 440452, 'Cuba': 6324242, 'Greece': 975633, 'Peru': 629125, 'Guatemala': 743477, 'El-Salvador': 1346585, 'France': 2069999, 'Vietnam': 708242, 'Poland': 2151770, 'Puerto-Rico': 2656840, 'Ireland': 678159, 'Yugoslavia': 1182355, 'Columbia': 566821, 'Haiti': 827330, 'Hong': 1766873, 'Ecuador': 677715, 'Nicaragua': 799907, 'Trinadad&Tobago': 324192, 'Hungary': 516412, 'Scotland': 624920, 'Laos': 442533}\n"
          ]
        }
      ]
    },
    {
      "cell_type": "code",
      "source": [
        "my_dict1={}\n",
        "s1=0\n",
        "u1=0\n",
        "x1=''\n",
        "country_column=df['native-country']\n",
        "#salary_column=df['salary']\n",
        "fnlwgt_column=df['fnlwgt']\n",
        "for u1 in range(32561):\n",
        "  #if (salary_column[u]=='>50K'):\n",
        "\n",
        "    x1=(country_column[u1])\n",
        "\n",
        "    s1=(fnlwgt_column[u1])\n",
        "\n",
        "    if u1==0:\n",
        "      my_dict1={x1:s1}\n",
        "\n",
        "    if u1!=0:\n",
        "       if x1  in my_dict1:\n",
        "\n",
        "          s1=s1+my_dict1[x1]\n",
        "          my_dict1.update({x1: s1})\n",
        "       else:\n",
        "        my_dict1.setdefault(x1, s1)\n",
        "\n",
        "\n",
        "print(my_dict1)\n",
        "for key,value in my_dict.items():\n",
        "  s2=value\n",
        "  x2=key\n",
        "  s1=my_dict1[x2]\n",
        "  s2=my_dict[x2]\n",
        "  my_dict.update({x: (s/s1)*100})\n",
        "  #print(s2)\n",
        "  #print(s1)\n",
        "print(my_dict)\n",
        "max_value = max(my_dict.values())\n",
        "print(f\"The maximum value in the dictionary is: {max_value}\")\n",
        "for key, value in my_dict.items():\n",
        "        if value == max_value:\n",
        "          print('country has the highest percentage of people that earn >50K is:',key)\n",
        "          print('that percentage is:',value)"
      ],
      "metadata": {
        "colab": {
          "base_uri": "https://localhost:8080/"
        },
        "id": "_79THVEyXrO-",
        "outputId": "1536bb30-4263-40d2-b362-33ef281fb98d"
      },
      "execution_count": 16,
      "outputs": [
        {
          "output_type": "stream",
          "name": "stdout",
          "text": [
            "{'United-States': 5456803347, 'Cuba': 23397678, 'Jamaica': 17184574, 'India': 16853909, '?': 112694423, 'Mexico': 186293012, 'South': 13078543, 'Puerto-Rico': 23089073, 'Honduras': 3322687, 'England': 16413765, 'Canada': 21762205, 'Germany': 25937568, 'Iran': 7835090, 'Philippines': 32890793, 'Italy': 13263034, 'Poland': 11034241, 'Columbia': 13283815, 'Cambodia': 3668527, 'Thailand': 3315000, 'Ecuador': 5204047, 'Laos': 3799944, 'Taiwan': 9508511, 'Haiti': 9196855, 'Portugal': 5499002, 'Dominican-Republic': 13446269, 'El-Salvador': 26965655, 'France': 5569476, 'Guatemala': 16970454, 'China': 13428599, 'Japan': 11513625, 'Yugoslavia': 3455423, 'Peru': 8511340, 'Outlying-US(Guam-USVI-etc)': 2862829, 'Scotland': 2027353, 'Trinadad&Tobago': 4043434, 'Greece': 4160520, 'Nicaragua': 10015520, 'Vietnam': 10940023, 'Hong': 4447055, 'Ireland': 3311942, 'Hungary': 2346350, 'Holand-Netherlands': 27882}\n",
            "{'United-States': 35371.28860320047, 'India': 6581701, '?': 27324559, 'South': 2570260, 'Honduras': 51835, 'Canada': 7881279, 'Iran': 3231084, 'Mexico': 9979761, 'Cambodia': 1663739, 'Thailand': 599352, 'Taiwan': 3867091, 'Portugal': 427993, 'England': 5286201, 'China': 3765694, 'Philippines': 10868321, 'Jamaica': 2117079, 'Germany': 8735522, 'Japan': 4018409, 'Italy': 4634584, 'Dominican-Republic': 440452, 'Cuba': 6324242, 'Greece': 975633, 'Peru': 629125, 'Guatemala': 743477, 'El-Salvador': 1346585, 'France': 2069999, 'Vietnam': 708242, 'Poland': 2151770, 'Puerto-Rico': 2656840, 'Ireland': 678159, 'Yugoslavia': 1182355, 'Columbia': 566821, 'Haiti': 827330, 'Hong': 1766873, 'Ecuador': 677715, 'Nicaragua': 799907, 'Trinadad&Tobago': 324192, 'Hungary': 516412, 'Scotland': 624920, 'Laos': 442533}\n",
            "The maximum value in the dictionary is: 27324559\n",
            "country has the highest percentage of people that earn >50K is: ?\n",
            "that percentage is: 27324559\n"
          ]
        }
      ]
    },
    {
      "cell_type": "code",
      "source": [
        "#nineth question\n",
        "country_column=df['native-country']\n",
        "salary_column=df['salary']\n",
        "job_column=df['occupation']\n",
        "num_column=df['fnlwgt']\n",
        "my_popular_dict={}\n",
        "for i9 in range(32561):\n",
        "  if (country_column[i9]=='India')and(salary_column[i9]=='>50K'):\n",
        "    x9=job_column[i9]\n",
        "    v9=num_column[i9]\n",
        "    if i9==0:\n",
        "      #x9=job_column[i9]\n",
        "      #v9=num_column[i9]\n",
        "      my_popular_dict={x9:v9}\n",
        "    else:\n",
        "      if x9 in my_popular_dict:\n",
        "          v9=v9+my_popular_dict[x9]\n",
        "          my_popular_dict.update({x9: v9})\n",
        "      else:\n",
        "        my_popular_dict.setdefault(x9, v9)\n",
        "print(my_popular_dict)\n",
        "#...............................................................................\n",
        "max_value_my_popular = max(my_popular_dict.values())\n",
        "#print(f\"The maximum value in the dictionary is: {max_value_my_popular}\")\n",
        "for key, value in my_popular_dict.items():\n",
        "        if value == max_value_my_popular:\n",
        "          #print('country has the highest percentage of people that earn >50K is:',key)\n",
        "          print('the most popular occupation for those who earn >50K in India is:',key)\n"
      ],
      "metadata": {
        "colab": {
          "base_uri": "https://localhost:8080/"
        },
        "id": "ZS0U9AJV4V34",
        "outputId": "111f04f0-0add-47b5-9102-6a83f43717c0"
      },
      "execution_count": 17,
      "outputs": [
        {
          "output_type": "stream",
          "name": "stdout",
          "text": [
            "{'Prof-specialty': 3745555, 'Exec-managerial': 1536740, 'Other-service': 311384, 'Tech-support': 305635, 'Transport-moving': 341672, 'Sales': 229737, 'Adm-clerical': 110978}\n",
            "the most popular occupation for those who earn >50K in India is: Prof-specialty\n"
          ]
        }
      ]
    }
  ]
}